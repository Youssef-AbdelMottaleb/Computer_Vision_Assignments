{
 "cells": [
  {
   "cell_type": "markdown",
   "id": "56667aa2",
   "metadata": {},
   "source": [
    "## Libraries Used"
   ]
  },
  {
   "cell_type": "code",
   "execution_count": 1,
   "id": "771666ac",
   "metadata": {},
   "outputs": [],
   "source": [
    "import numpy as np\n",
    "import cv2 as cv"
   ]
  },
  {
   "cell_type": "markdown",
   "id": "9fd7e093",
   "metadata": {},
   "source": [
    "### Question1: Apply a code for corners extraction from an image (Figure1) in fast way."
   ]
  },
  {
   "cell_type": "code",
   "execution_count": 2,
   "id": "fca84d23",
   "metadata": {},
   "outputs": [],
   "source": [
    "filename = '1.png'\n",
    "img = cv.imread(filename)\n",
    "gray = cv.cvtColor(img,cv.COLOR_BGR2GRAY)\n",
    "gray = np.float32(gray)\n",
    "dst = cv.cornerHarris(gray,2,3,0.04)\n",
    "\n",
    "dst = cv.dilate(dst,None)\n",
    "\n",
    "img[dst>0.01*dst.max()]=[0,0,255]\n",
    "cv.imshow('dst',img)\n",
    "if cv.waitKey(0) & 0xff == 27:\n",
    "    cv.destroyAllWindows()"
   ]
  },
  {
   "cell_type": "markdown",
   "id": "5ff7d7a7",
   "metadata": {},
   "source": [
    "### Question2: Compare between sift and Harris algorithms."
   ]
  },
  {
   "cell_type": "markdown",
   "id": "ac2d516d",
   "metadata": {},
   "source": [
    "Harris Detector:\n",
    "\n",
    "The Harris Detector is one of the many existing detectors that can be used to find key points in images. Corners are common key points that the detector tries to look for because there are significant changes in intensity in all directions.\n",
    "The Harris Detector is rotation-invariant.\n",
    "The Harris Detector cannot perform well if the image is scaled differently.\n",
    "\n",
    "\n",
    "SIFT Detector:\n",
    "\n",
    "Scale-Invariant Feature Transform (SIFT) is another technique for detecting local features.\n",
    "When you have two identical images, except one is scaled differently than the other, SIFT maximizes the Difference of Gaussians (DoG) in scale and in space to find same key points independently in each image. DoG is basically the difference of the Gaussian blurring of an image with different standard deviation.\n",
    "The SIFT detector is rotation-invariant and scale-invariant."
   ]
  },
  {
   "cell_type": "markdown",
   "id": "9d336d07",
   "metadata": {},
   "source": [
    "### The End"
   ]
  }
 ],
 "metadata": {
  "kernelspec": {
   "display_name": "Python 3 (ipykernel)",
   "language": "python",
   "name": "python3"
  },
  "language_info": {
   "codemirror_mode": {
    "name": "ipython",
    "version": 3
   },
   "file_extension": ".py",
   "mimetype": "text/x-python",
   "name": "python",
   "nbconvert_exporter": "python",
   "pygments_lexer": "ipython3",
   "version": "3.9.7"
  }
 },
 "nbformat": 4,
 "nbformat_minor": 5
}
