{
 "cells": [
  {
   "cell_type": "code",
   "execution_count": 1,
   "id": "2f27c6f2",
   "metadata": {},
   "outputs": [],
   "source": [
    "# loading Libraries\n",
    "import cv2\n",
    "import numpy as np\n",
    "import matplotlib.pyplot as plt\n",
    "from scipy import ndimage"
   ]
  },
  {
   "cell_type": "code",
   "execution_count": 2,
   "id": "a4179763",
   "metadata": {},
   "outputs": [],
   "source": [
    "# reading image to be proccessed\n",
    "\n",
    "image = cv2.imread( 'fig1.png' )\n",
    "cv2.imshow('figure 1', image)\n",
    "cv2.waitKey()\n",
    "cv2.destroyAllWindows()"
   ]
  },
  {
   "cell_type": "markdown",
   "id": "814dd40c",
   "metadata": {},
   "source": [
    "Q1) Blurring the image (Figure 1) with a gaussian \n",
    "filter and kernel size = 7"
   ]
  },
  {
   "cell_type": "code",
   "execution_count": 3,
   "id": "0042abc9",
   "metadata": {},
   "outputs": [],
   "source": [
    "# Gaussian Blur\n",
    "Gaussian = cv2.GaussianBlur(image, (7, 7), 0)\n",
    "cv2.imshow('Gaussian Blurring', Gaussian)\n",
    "cv2.waitKey()\n",
    "cv2.destroyAllWindows()"
   ]
  },
  {
   "cell_type": "markdown",
   "id": "927f93b7",
   "metadata": {},
   "source": [
    "Q2) Highlight the rapid transition in the image\n",
    "(Figure 1) with a canny filter."
   ]
  },
  {
   "cell_type": "code",
   "execution_count": 4,
   "id": "c4b65fca",
   "metadata": {},
   "outputs": [],
   "source": [
    "imageCanny= cv2.Canny(image, 200, 300)\n",
    "cv2.imwrite(\"canny.jpg\", imageCanny)\n",
    "cv2.imshow(\"original\", image)\n",
    "cv2.imshow(\"canny\", imageCanny)\n",
    "cv2.waitKey()\n",
    "cv2.destroyAllWindows()"
   ]
  },
  {
   "cell_type": "code",
   "execution_count": 5,
   "id": "9b4a6088",
   "metadata": {},
   "outputs": [],
   "source": [
    "img2 = cv2.imread( 'fig2.png', 0) # 0 to read image in grey mode\n",
    "cv2.imshow('figure 2', img2)\n",
    "cv2.waitKey()\n",
    "cv2.destroyAllWindows()"
   ]
  },
  {
   "cell_type": "markdown",
   "id": "e98606e4",
   "metadata": {},
   "source": [
    "Q3) Extracting edges from image (Figure 2) using \n",
    "Sobel derivative."
   ]
  },
  {
   "cell_type": "code",
   "execution_count": 6,
   "id": "fc6504e0",
   "metadata": {},
   "outputs": [],
   "source": [
    "sobelx = cv2.Sobel(img2, cv2.CV_64F, 1, 0, ksize=5)\n",
    "sobely = cv2.Sobel(img2, cv2.CV_64F, 0, 1, ksize=5)\n",
    "sobelImg= cv2.add(sobelx, sobely)"
   ]
  },
  {
   "cell_type": "markdown",
   "id": "1e759600",
   "metadata": {},
   "source": [
    "Q4) Extracting edges from image (Figure 2) using \n",
    "Scharr derivative."
   ]
  },
  {
   "cell_type": "code",
   "execution_count": 7,
   "id": "dd7e5c26",
   "metadata": {},
   "outputs": [],
   "source": [
    "schx= cv2.Scharr(img2, cv2.CV_64F, 1, 0)\n",
    "schy= cv2.Scharr(img2, cv2.CV_64F, 0, 1)"
   ]
  },
  {
   "cell_type": "markdown",
   "id": "49fb529c",
   "metadata": {},
   "source": [
    "Q5) Extracting edges from image (Figure 2) using \n",
    "Laplacian derivative."
   ]
  },
  {
   "cell_type": "code",
   "execution_count": 8,
   "id": "844a5505",
   "metadata": {},
   "outputs": [],
   "source": [
    "laplacian = cv2.Laplacian(img2, cv2.CV_64F)"
   ]
  },
  {
   "cell_type": "markdown",
   "id": "6dfd41ed",
   "metadata": {},
   "source": [
    "#### Visualizing all Proccessed Images"
   ]
  },
  {
   "cell_type": "code",
   "execution_count": null,
   "id": "7c3d7005",
   "metadata": {},
   "outputs": [],
   "source": [
    "plt.subplot(2,3,1),plt.imshow(img2,cmap=\"grey\"),plt.title(\"grey\")\n",
    "plt.subplot(2,3,2),plt.imshow(laplacian,cmap=\"grey\"),plt.title(\"laplace\")\n",
    "plt.subplot(2,3,3),plt.imshow(sobelx,cmap=\"grey\"),plt.title(\"sobelx\")\n",
    "plt.subplot(2,3,4),plt.imshow(sobely,cmap=\"grey\"),plt.title(\"sobely\")\n",
    "plt.subplot(2,3,5),plt.imshow(schx,cmap=\"grey\"),plt.title(\"scharrx\")\n",
    "plt.subplot(2,3,6),plt.imshow(schy,cmap=\"grey\"),plt.title(\"scharry\")\n",
    "\n",
    "plt.show()"
   ]
  },
  {
   "cell_type": "code",
   "execution_count": null,
   "id": "e37fcb02",
   "metadata": {},
   "outputs": [],
   "source": [
    "kernel = np.array([[-1,-1,-1],\n",
    "                 [-1,8,-1],\n",
    "                 [-1,-1,-1]])\n",
    "\n",
    "image = cv2.imread(\"fig1\",0)\n",
    "k3 = ndimage.convolve(image , kernel)\n",
    "\n",
    "blurred = cv2.GaussianBlur(image,(17,17),0)\n",
    "g_hpf = image - blurred\n",
    "\n",
    "cv2.imshow(\"3*3\",k3)\n",
    "cv2.imshow(\"blurred\" , blurred)\n",
    "cv2.imshow(\"g_hpf\" , g_hpf)\n",
    "\n",
    "cv2.waitKey()\n",
    "cv2.destroyAllWindows()"
   ]
  },
  {
   "cell_type": "markdown",
   "id": "c3292bc9",
   "metadata": {},
   "source": [
    "### Q7) What is the best edge detector and what is the reason ?\n",
    "\n",
    "The Canny Edge Detection algorithm is a widely used edge detection algorithm in today's image processing applications and it is considered the best edge detector as it extracts useful structural information from different vision objects and dramatically reduce the amount of data to be processed.\n",
    "\n",
    "The Canny method differs from the other edge-detection methods in that it uses two different thresholds (to detect strong and weak edges), and includes the weak edges in the output only if they are connected to strong edges.\n",
    "\n",
    "#### Why Canny Edge Detection is better than Sobel and Schar ?\n",
    "\n",
    "Sobel edge detection method cannot produce smooth and thin edge compared to canny method as it produces very thin and clean edges.\n",
    "\n",
    "#### Why Canny Edge Detection is better than Laplacian ?\n",
    "\n",
    "lapalacian is a second derivative mask, it is very sensitive to noise. Thus if an image contains noise, the laplacian gives very large values and also ruins the image in the process. iii. The magnitude of laplacian produces double edges, which is an undesirable property."
   ]
  },
  {
   "cell_type": "markdown",
   "id": "3bc13a5f",
   "metadata": {},
   "source": [
    "### Done"
   ]
  }
 ],
 "metadata": {
  "kernelspec": {
   "display_name": "Python 3 (ipykernel)",
   "language": "python",
   "name": "python3"
  },
  "language_info": {
   "codemirror_mode": {
    "name": "ipython",
    "version": 3
   },
   "file_extension": ".py",
   "mimetype": "text/x-python",
   "name": "python",
   "nbconvert_exporter": "python",
   "pygments_lexer": "ipython3",
   "version": "3.9.7"
  }
 },
 "nbformat": 4,
 "nbformat_minor": 5
}
