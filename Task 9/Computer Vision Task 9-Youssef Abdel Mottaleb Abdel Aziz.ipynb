{
 "cells": [
  {
   "cell_type": "markdown",
   "id": "20fb4786",
   "metadata": {},
   "source": [
    "## Computer Vision Task 9"
   ]
  },
  {
   "cell_type": "markdown",
   "id": "f7fef0ef",
   "metadata": {},
   "source": [
    "### Libraries Used"
   ]
  },
  {
   "cell_type": "code",
   "execution_count": null,
   "id": "be9eb1a3",
   "metadata": {},
   "outputs": [],
   "source": [
    "import cv2\n",
    "import numpy as np"
   ]
  },
  {
   "cell_type": "markdown",
   "id": "98094066",
   "metadata": {},
   "source": [
    "### Apply a code to estimate the motion in video using Lucas-Kanade method"
   ]
  },
  {
   "cell_type": "code",
   "execution_count": null,
   "id": "71614f4d",
   "metadata": {},
   "outputs": [],
   "source": [
    "# The video read is read in as\n",
    "# a VideoCapture object\n",
    "cap = cv2.VideoCapture(\"1.mp4\") # video path\n",
    "\n",
    "# params for corner detection\n",
    "featureParams = dict(maxCorners = 100, qualityLevel = 0.3, minDistance = 7, blockSize = 7)\n",
    "\n",
    "# paramaters for lucas kanade optical flow\n",
    "lkParams = dict(winSize = (15,15), maxLevel = 2)\n",
    "\n",
    "# creating some random colors\n",
    "color = np.random.randint(0,255,(100,3))\n",
    "\n",
    "# take the first frame and corners in it\n",
    "ret, old_frame = cap.read()\n",
    "oldGray = cv2.cvtColor(old_frame, cv2.COLOR_BGR2GRAY)\n",
    "\n",
    "p0 = cv2.goodFeaturesToTrack(oldGray, mask=None, **featureParams)\n",
    "\n",
    "# creating a mask image for drawing purposes\n",
    "mask = np.zeros_like(old_frame)\n",
    "\n",
    "while(1):\n",
    "    ret, frame = cap.read()\n",
    "    frameGray = cv2.cvtColor(frame, cv2.COLOR_BGR2GRAY)\n",
    "    \n",
    "    # calculate optical flow\n",
    "    p1,st,err = cv2.calcOpticalFlowPyrLK(oldGray, frameGray, p0, None, **lkParams)\n",
    "    \n",
    "    # select good points\n",
    "    goodNew = p1[st == 1]\n",
    "    goodOld = p0[st == 1]\n",
    "    \n",
    "    # draw the tracks\n",
    "    for i, (new, old) in enumerate(zip(goodNew, goodOld)):\n",
    "        \n",
    "        a, b = new.ravel()\n",
    "        c, d = old.ravel()\n",
    "        \n",
    "       # mask = cv2.line(mask, (a, b), (c, d), color[i].tolist(), -1)\n",
    "        mask = cv2.line(mask, (int(a), int(b)), (int(c), int(d)), color[i].tolist(), 2)\n",
    "\n",
    "        img = cv2.add(frame, mask)\n",
    "        cv2.imshow(\"Video\", img)\n",
    "        \n",
    "        # Quit if 'q' is pressed\n",
    "        if cv2.waitKey(1) & 0xFF == ord('q'):\n",
    "            break\n",
    "            \n",
    "        # updating previous frame and points\n",
    "        oldGray = frameGray.copy()\n",
    "        p0 = goodNew.reshape(-1, 1, 2)\n",
    "        \n",
    "cv2.destroyAllWindows()\n",
    "cap.release()"
   ]
  },
  {
   "cell_type": "markdown",
   "id": "eb4d3009",
   "metadata": {},
   "source": [
    "### Apply a code to estimate the motion in video using Lucas-Kanade method (Modified)"
   ]
  },
  {
   "cell_type": "code",
   "execution_count": 2,
   "id": "cac5e575",
   "metadata": {},
   "outputs": [],
   "source": [
    "# Function to estimate motion using Lucas-Kanade method\n",
    "def estimate_motion(video_path):\n",
    "    # Read the video file\n",
    "    cap = cv2.VideoCapture(video_path)\n",
    "    \n",
    "    # Read the first frame\n",
    "    ret, prev_frame = cap.read()\n",
    "    prev_gray = cv2.cvtColor(prev_frame, cv2.COLOR_BGR2GRAY)\n",
    "    prev_points = cv2.goodFeaturesToTrack(prev_gray, maxCorners=100, qualityLevel=0.3, minDistance=7, blockSize=7)\n",
    "    \n",
    "    # Set parameters for Lucas-Kanade optical flow\n",
    "    lk_params = dict(winSize=(15, 15),\n",
    "                     maxLevel=2,\n",
    "                     criteria=(cv2.TERM_CRITERIA_EPS | cv2.TERM_CRITERIA_COUNT, 10, 0.03))\n",
    "    \n",
    "    # Create some random colors for visualizing motion tracks\n",
    "    color = np.random.randint(0, 255, (100, 3))\n",
    "    \n",
    "    while True:\n",
    "        # Read the next frame\n",
    "        ret, frame = cap.read()\n",
    "        if not ret:\n",
    "            break\n",
    "        \n",
    "        # Convert frame to grayscale\n",
    "        gray = cv2.cvtColor(frame, cv2.COLOR_BGR2GRAY)\n",
    "        \n",
    "        # Calculate optical flow using Lucas-Kanade method\n",
    "        next_points, status, _ = cv2.calcOpticalFlowPyrLK(prev_gray, gray, prev_points, None, **lk_params)\n",
    "        \n",
    "        # Select good points\n",
    "        good_prev = prev_points[status == 1]\n",
    "        good_next = next_points[status == 1]\n",
    "        \n",
    "        # Draw motion tracks\n",
    "        for i, (prev_pt, next_pt) in enumerate(zip(good_prev, good_next)):\n",
    "            x1, y1 = prev_pt.ravel().astype(int)\n",
    "            x2, y2 = next_pt.ravel().astype(int)\n",
    "            cv2.line(frame, (x1, y1), (x2, y2), color[i].tolist(), 2)\n",
    "            cv2.circle(frame, (x2, y2), 5, color[i].tolist(), -1)\n",
    "        \n",
    "        # Display the resulting frame\n",
    "        cv2.imshow('Video', frame)\n",
    "        \n",
    "        # Quit if 'q' is pressed\n",
    "        if cv2.waitKey(1) & 0xFF == ord('q'):\n",
    "            break\n",
    "        \n",
    "        # Update previous frame and points\n",
    "        prev_gray = gray.copy()\n",
    "        prev_points = good_next.reshape(-1, 1, 2)\n",
    "    \n",
    "    # Release the video capture and close all windows\n",
    "    cap.release()\n",
    "    cv2.destroyAllWindows()\n",
    "\n",
    "# Path to the input video\n",
    "video_path = '1.mp4' # video path\n",
    "\n",
    "# Call the function to estimate motion\n",
    "estimate_motion(video_path)"
   ]
  },
  {
   "cell_type": "markdown",
   "id": "a357d201",
   "metadata": {},
   "source": [
    "### End"
   ]
  }
 ],
 "metadata": {
  "kernelspec": {
   "display_name": "Python 3 (ipykernel)",
   "language": "python",
   "name": "python3"
  },
  "language_info": {
   "codemirror_mode": {
    "name": "ipython",
    "version": 3
   },
   "file_extension": ".py",
   "mimetype": "text/x-python",
   "name": "python",
   "nbconvert_exporter": "python",
   "pygments_lexer": "ipython3",
   "version": "3.9.7"
  }
 },
 "nbformat": 4,
 "nbformat_minor": 5
}
