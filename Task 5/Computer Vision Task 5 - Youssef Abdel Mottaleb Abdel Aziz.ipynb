{
 "cells": [
  {
   "cell_type": "markdown",
   "id": "f0310040",
   "metadata": {},
   "source": [
    "## Libraries Used"
   ]
  },
  {
   "cell_type": "code",
   "execution_count": 1,
   "id": "b13ea7d2",
   "metadata": {},
   "outputs": [],
   "source": [
    "# importing libraries\n",
    "import numpy as np\n",
    "import cv2"
   ]
  },
  {
   "cell_type": "markdown",
   "id": "6cb7e784",
   "metadata": {},
   "source": [
    "### Question 1: Given three vertices of a triangle from the user, write a Python program to find the centroid of the triangle and then draw the triangle with its centroid on a black window using OpenCV."
   ]
  },
  {
   "cell_type": "code",
   "execution_count": 19,
   "id": "f8f75723",
   "metadata": {},
   "outputs": [
    {
     "name": "stdout",
     "output_type": "stream",
     "text": [
      "enter first point 100,200\n",
      "enter second point 50,50\n",
      "enter third point 300,100\n"
     ]
    }
   ],
   "source": [
    "# Width and height of the black window \n",
    "width = 400\n",
    "height = 300\n",
    "  \n",
    "# Create a black window of 400 x 300\n",
    "img = np.zeros((height, width, 3), np.uint8)\n",
    "  \n",
    "# Three vertices(tuples) of the triangle \n",
    "\n",
    "pt1 = input(\"enter first point \").split(\",\")\n",
    "pt1 = (int(pt1[0].strip()), int(pt1[1].strip()))\n",
    "\n",
    "\n",
    "pt2 = input(\"enter second point \").split(\",\")\n",
    "pt2 = (int(pt2[0].strip()), int(pt2[1].strip()))\n",
    "\n",
    "\n",
    "pt3 = input(\"enter third point \").split(\",\")\n",
    "pt3 = (int(pt3[0].strip()), int(pt3[1].strip()))\n",
    "\n",
    "\n",
    "# Drawing the triangle with the help of lines\n",
    "#  on the black window With given points \n",
    "# cv2.line is the inbuilt function in opencv library\n",
    "cv2.line(img, pt1, pt2, (255, 0, 0), 3)\n",
    "cv2.line(img, pt2, pt3, (255, 0, 0), 3)\n",
    "cv2.line(img, pt1, pt3, (255, 0, 0), 3)\n",
    "  \n",
    "# finding centroid using the following formula\n",
    "# (X, Y) = (x1 + x2 + x3//3, y1 + y2 + y3//3) \n",
    "centroid = ((pt1[0]+pt2[0]+pt3[0])//3, (pt1[1]+pt2[1]+pt3[1])//3)\n",
    "  \n",
    "# Drawing the centroid on the window  \n",
    "cv2.circle(img, centroid, 7, (0, 255, 0),-1)\n",
    "  \n",
    "# displaying the image\n",
    "cv2.imshow(\"Triangle Image\", img)\n",
    "cv2.waitKey(0)\n",
    "cv2.destroyAllWindows()"
   ]
  },
  {
   "cell_type": "markdown",
   "id": "b0c136d1",
   "metadata": {},
   "source": [
    "### Question 2: Draw a polygon shape on the image using OpenCV."
   ]
  },
  {
   "cell_type": "code",
   "execution_count": 20,
   "id": "d73d069e",
   "metadata": {},
   "outputs": [],
   "source": [
    "# Create a black image\n",
    "image = np.zeros((512,512,3), np.uint8)\n",
    "\n",
    "# Polygon corner points coordinates\n",
    "pts = np.array([[25, 70], [25, 160],\n",
    "                [110, 200], [200, 160],\n",
    "                [200, 70], [110, 20]],\n",
    "            np.int32)\n",
    "\n",
    "pts = pts.reshape((-1, 1, 2))\n",
    "\n",
    "isClosed = True\n",
    "\n",
    "# Blue color in BGR\n",
    "color = (255, 0, 0)\n",
    "\n",
    "# Line thickness of 3 px\n",
    "thickness = 3\n",
    "\n",
    "# Using cv2.polylines() method\n",
    "# Draw a Blue polygon with thickness of 3 px\n",
    "image = cv2.polylines(image, [pts],\n",
    "                    isClosed, color, thickness)\n",
    "\n",
    "# Displaying the image\n",
    "cv2.imshow(\"Polygon Image\", image)\n",
    "cv2.waitKey(0)\n",
    "cv2.destroyAllWindows()"
   ]
  },
  {
   "cell_type": "markdown",
   "id": "9c96c4a2",
   "metadata": {},
   "source": [
    "### Question 3: Draw a half-circle shape on the image using OpenCV."
   ]
  },
  {
   "cell_type": "code",
   "execution_count": 21,
   "id": "90fd35af",
   "metadata": {},
   "outputs": [],
   "source": [
    "# Create a black image\n",
    "img = np.zeros((512,512,3),np.uint8)\n",
    "\n",
    "# adding values to ellipse() arguments\n",
    "\n",
    "center_coordinates = (250,250)\n",
    "axesLength = (150,100)\n",
    "angle = 0\n",
    "startAngle = 180\n",
    "endAngle = 360\n",
    "color = (255,0,0)\n",
    "thickness = 3\n",
    "\n",
    "img = cv2.ellipse(img, center_coordinates, axesLength, angle, startAngle, endAngle, color, thickness)\n",
    "\n",
    "# displaying the image\n",
    "cv2.imshow(\"Half Circle Image\", img)\n",
    "cv2.waitKey(0)\n",
    "cv2.destroyAllWindows()"
   ]
  },
  {
   "cell_type": "markdown",
   "id": "8ffaa7a6",
   "metadata": {},
   "source": [
    "### Question 4: Draw the atom shape as shown below using OpenCV."
   ]
  },
  {
   "cell_type": "code",
   "execution_count": 22,
   "id": "86030450",
   "metadata": {},
   "outputs": [],
   "source": [
    "# Create a black image\n",
    "img = np.zeros((512,512,3),np.uint8)\n",
    "\n",
    "# adding values to ellipse() arguments\n",
    "\n",
    "center_coordinates = (250,250)\n",
    "axisLength = (200,100)\n",
    "angle = 0\n",
    "startAngle = 0\n",
    "endAngle = 360\n",
    "color = (0,0,255)\n",
    "thickness = 3\n",
    "\n",
    "# making a loop to draw multiple ellipses with different angles\n",
    "rotationAngle = 0\n",
    "for i in range(4):\n",
    "    cv2.ellipse(img, center_coordinates, axisLength, rotationAngle, startAngle, endAngle, color, thickness)\n",
    "    rotationAngle = rotationAngle + 45\n",
    "    \n",
    "# Drawing the centroid on the window  \n",
    "cv2.circle(img, center_coordinates, 25, (0, 255, 255),-1)\n",
    "\n",
    "# displaying the image\n",
    "cv2.imshow(\"Atom Image\", img)\n",
    "cv2.waitKey(0)\n",
    "cv2.destroyAllWindows()"
   ]
  },
  {
   "cell_type": "markdown",
   "id": "d065581e",
   "metadata": {},
   "source": [
    "### The End"
   ]
  }
 ],
 "metadata": {
  "kernelspec": {
   "display_name": "Python 3 (ipykernel)",
   "language": "python",
   "name": "python3"
  },
  "language_info": {
   "codemirror_mode": {
    "name": "ipython",
    "version": 3
   },
   "file_extension": ".py",
   "mimetype": "text/x-python",
   "name": "python",
   "nbconvert_exporter": "python",
   "pygments_lexer": "ipython3",
   "version": "3.9.7"
  }
 },
 "nbformat": 4,
 "nbformat_minor": 5
}
