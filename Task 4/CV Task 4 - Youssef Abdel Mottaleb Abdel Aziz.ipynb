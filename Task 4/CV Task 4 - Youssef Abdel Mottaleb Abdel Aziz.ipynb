{
 "cells": [
  {
   "cell_type": "markdown",
   "id": "69ab3059",
   "metadata": {},
   "source": [
    "#### Loading Libraries"
   ]
  },
  {
   "cell_type": "code",
   "execution_count": 1,
   "id": "6b0815e8",
   "metadata": {},
   "outputs": [],
   "source": [
    "import cv2\n",
    "import numpy as np"
   ]
  },
  {
   "cell_type": "markdown",
   "id": "9f5bae45",
   "metadata": {},
   "source": [
    "#### Reading images"
   ]
  },
  {
   "cell_type": "code",
   "execution_count": 2,
   "id": "963a2cb7",
   "metadata": {},
   "outputs": [],
   "source": [
    "# Reading Image\n",
    "img = cv2.imread('1.jpg')\n",
    "img2 = cv2.imread('2.jpg')\n",
    "img3 = cv2.imread('3.jpg')"
   ]
  },
  {
   "cell_type": "markdown",
   "id": "12498fa9",
   "metadata": {},
   "source": [
    "Question 1: Detect the count of the water pipes in the following picture using OpenCV."
   ]
  },
  {
   "cell_type": "code",
   "execution_count": 6,
   "id": "d25195e4",
   "metadata": {},
   "outputs": [
    {
     "name": "stdout",
     "output_type": "stream",
     "text": [
      "Number of water pipes detected: 25\n"
     ]
    }
   ],
   "source": [
    "gray = cv2.cvtColor(img, cv2.COLOR_BGR2GRAY)\n",
    "gray = cv2.medianBlur(gray, 5)\n",
    "circles = cv2.HoughCircles(gray, cv2.HOUGH_GRADIENT, minDist=6, dp=1.1, param1=150, param2=15, minRadius = 6, maxRadius = 10)\n",
    "if circles is not None:\n",
    "    circles = np.uint16(np.around(circles[0, :]))\n",
    "    print(\"Number of water pipes detected:\", len(circles))\n",
    "    for (x, y, r) in circles:\n",
    "        cv2.circle(img, (x,y), r, (0, 255, 0), 2)\n",
    "        cv2.imshow('Result', img)\n",
    "        cv2.waitKey(0)\n",
    "        cv2.destroyAllWindows()\n",
    "else:\n",
    "    print(\"No water pipes detected in the image.\")"
   ]
  },
  {
   "cell_type": "markdown",
   "id": "f40a8d7f",
   "metadata": {},
   "source": [
    "Question 2: Detect lines in parking as shown below using OpenCV."
   ]
  },
  {
   "cell_type": "code",
   "execution_count": 8,
   "id": "ac5f994b",
   "metadata": {},
   "outputs": [],
   "source": [
    "gray = cv2.cvtColor(img2, cv2.COLOR_BGR2GRAY)\n",
    "blur = cv2.GaussianBlur(gray, (5,5), 0)\n",
    "edges = cv2.Canny(blur, 50, 150)\n",
    "lines = cv2.HoughLinesP(edges, rho=1, theta=np.pi/180, threshold=50, minLineLength = 50, maxLineGap = 10)\n",
    "for line in lines:\n",
    "    x1, y1, x2, y2 = line[0]\n",
    "    cv2.line(img2, (x1, y1), (x2, y2), (0, 0, 255), 2)\n",
    "cv2.imshow('Parking Lot', img2)\n",
    "cv2.waitKey(0)\n",
    "cv2.destroyAllWindows()\n"
   ]
  },
  {
   "cell_type": "markdown",
   "id": "600c00ab",
   "metadata": {},
   "source": [
    "Question 3- 7: Detect the following geometric shapes (triangle, circle, rectangle, star, and \n",
    "pentagon) depending on the contours only using OpenCV in the following picture. "
   ]
  },
  {
   "cell_type": "code",
   "execution_count": 10,
   "id": "aa6604fb",
   "metadata": {},
   "outputs": [],
   "source": [
    "gray = cv2.cvtColor(img3, cv2.COLOR_BGR2GRAY)\n",
    "ret, thresh = cv2.threshold(gray, 127, 255, cv2.THRESH_BINARY)\n",
    "contours, hierarchy = cv2.findContours(thresh, cv2.RETR_TREE, cv2.CHAIN_APPROX_NONE)\n",
    "for cnt in contours:\n",
    "    approx = cv2.approxPolyDP(cnt, 0.01*cv2.arcLength(cnt, True), True)\n",
    "    num_vertices = len(approx)\n",
    "    if num_vertices == 3:\n",
    "        shape = \"triangle\"\n",
    "    elif num_vertices == 4:\n",
    "        shape = \"rectangle\"\n",
    "    elif num_vertices == 5:\n",
    "        shape = \"pentagon\"\n",
    "    elif num_vertices == 0:\n",
    "        shape = \"circle\"\n",
    "    else:\n",
    "        shape = \"star\"\n",
    "cv2.drawContours(img3, [cnt], 0, (255, 0, 255), 2)\n",
    "cv2.imshow('image', img3)\n",
    "cv2.waitKey(0)\n",
    "cv2.destroyAllWindows()"
   ]
  },
  {
   "cell_type": "markdown",
   "id": "6f8507da",
   "metadata": {},
   "source": [
    "#### The End"
   ]
  }
 ],
 "metadata": {
  "kernelspec": {
   "display_name": "Python 3 (ipykernel)",
   "language": "python",
   "name": "python3"
  },
  "language_info": {
   "codemirror_mode": {
    "name": "ipython",
    "version": 3
   },
   "file_extension": ".py",
   "mimetype": "text/x-python",
   "name": "python",
   "nbconvert_exporter": "python",
   "pygments_lexer": "ipython3",
   "version": "3.9.7"
  }
 },
 "nbformat": 4,
 "nbformat_minor": 5
}
